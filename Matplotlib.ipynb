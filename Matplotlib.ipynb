{
 "cells": [
  {
   "cell_type": "markdown",
   "id": "e42e72e8-207f-4ff7-b975-d42ab3d19649",
   "metadata": {},
   "source": [
    "## Q1: What is Matplotlib? Why is it used? Name five plots that can be plotted using the Pyplot module of Matplotlib."
   ]
  },
  {
   "cell_type": "markdown",
   "id": "456e359b-aeb6-40b6-b07b-f0ae0fdd5eeb",
   "metadata": {},
   "source": [
    "**Matplotlib:**\n",
    "Matplotlib is a 2D plotting library for the Python programming language. It enables the creation of static, animated, and interactive visualizations in Python. Matplotlib is widely used for data visualization due to its flexibility and ease of use. It provides various modules, including Pyplot, which is a collection of functions that make matplotlib work like MATLAB.\n",
    "\n",
    "**Uses of Matplotlib:**\n",
    "- Creating static, animated, and interactive plots.\n",
    "- Visualizing data in various formats, such as line plots, scatter plots, bar plots, histograms, etc.\n",
    "- Analyzing and presenting data in a graphical form.\n",
    "- Supporting a wide range of customization options for plots.\n",
    "\n",
    "**Five Plots Using Pyplot Module:**\n",
    "1. **Line Plot:**\n",
    "   - Displaying data points connected by straight line segments.\n",
    "   ```python\n",
    "   import matplotlib.pyplot as plt\n",
    "\n",
    "   x = [1, 2, 3, 4, 5]\n",
    "   y = [2, 4, 6, 8, 10]\n",
    "\n",
    "   plt.plot(x, y)\n",
    "   plt.show()\n",
    "   ```\n",
    "\n",
    "2. **Scatter Plot:**\n",
    "   - Visualizing individual data points without connecting them.\n",
    "   ```python\n",
    "   import matplotlib.pyplot as plt\n",
    "\n",
    "   x = [1, 2, 3, 4, 5]\n",
    "   y = [2, 4, 6, 8, 10]\n",
    "\n",
    "   plt.scatter(x, y)\n",
    "   plt.show()\n",
    "   ```\n",
    "\n",
    "3. **Bar Plot:**\n",
    "   - Representing data using rectangular bars.\n",
    "   ```python\n",
    "   import matplotlib.pyplot as plt\n",
    "\n",
    "   categories = ['A', 'B', 'C', 'D']\n",
    "   values = [3, 7, 1, 5]\n",
    "\n",
    "   plt.bar(categories, values)\n",
    "   plt.show()\n",
    "   ```\n",
    "\n",
    "4. **Histogram:**\n",
    "   - Displaying the distribution of a dataset.\n",
    "   ```python\n",
    "   import matplotlib.pyplot as plt\n",
    "   import numpy as np\n",
    "\n",
    "   data = np.random.randn(1000)\n",
    "\n",
    "   plt.hist(data, bins=30, edgecolor='black')\n",
    "   plt.show()\n",
    "   ```\n",
    "\n",
    "5. **Pie Chart:**\n",
    "   - Representing data in a circular statistical graphic.\n",
    "   ```python\n",
    "   import matplotlib.pyplot as plt\n",
    "\n",
    "   labels = ['Category A', 'Category B', 'Category C']\n",
    "   sizes = [40, 30, 30]\n",
    "\n",
    "   plt.pie(sizes, labels=labels, autopct='%1.1f%%', startangle=90)\n",
    "   plt.axis('equal')  # Equal aspect ratio ensures that pie is drawn as a circle.\n",
    "   plt.show()\n",
    "   ```\n",
    "\n",
    "These are just a few examples, and Matplotlib offers many more types of plots for various data visualization needs."
   ]
  },
  {
   "cell_type": "markdown",
   "id": "66d09f99-bedc-44cb-b254-9961c616620b",
   "metadata": {},
   "source": [
    "## Q2: What is a scatter plot? Use the following code to generate data for x and y. Using this generated data plot a scatter plot."
   ]
  },
  {
   "cell_type": "markdown",
   "id": "1b0ba669-419f-4e88-8163-0d475de62a20",
   "metadata": {},
   "source": [
    "A scatter plot is a type of data visualization that displays individual data points on a two-dimensional graph. Each point represents the values of two variables, with one variable on the x-axis and the other on the y-axis.\n",
    "\n",
    "Here's how you can generate the data, create a scatter plot, and add title, xlabel, and ylabel using the provided code:\n",
    "\n",
    "```python\n",
    "import numpy as np\n",
    "import matplotlib.pyplot as plt\n",
    "\n",
    "# Generate data\n",
    "np.random.seed(3)\n",
    "x = 3 + np.random.normal(0, 2, 50)\n",
    "y = 3 + np.random.normal(0, 2, len(x))\n",
    "\n",
    "# Create scatter plot\n",
    "plt.scatter(x, y, alpha=0.7)  # 'alpha' controls the transparency of points\n",
    "\n",
    "# Add title and labels\n",
    "plt.title('Scatter Plot of X and Y')\n",
    "plt.xlabel('X-axis Label')\n",
    "plt.ylabel('Y-axis Label')\n",
    "\n",
    "# Show the plot\n",
    "plt.show()\n",
    "```\n",
    "\n",
    "In this code:\n",
    "- `plt.scatter(x, y, alpha=0.7)` creates the scatter plot, where `x` and `y` are the data arrays, and `alpha` controls the transparency of the points.\n",
    "- `plt.title('Scatter Plot of X and Y')` sets the title of the plot.\n",
    "- `plt.xlabel('X-axis Label')` and `plt.ylabel('Y-axis Label')` set the labels for the x-axis and y-axis, respectively.\n",
    "- `plt.show()` displays the plot.\n"
   ]
  },
  {
   "cell_type": "markdown",
   "id": "f2aee29a-53aa-4796-977b-2dcd28291c64",
   "metadata": {},
   "source": [
    "## Q3: Why is the subplot() function used? Draw four line plots using the subplot() function. Use the following data:"
   ]
  },
  {
   "cell_type": "code",
   "execution_count": null,
   "id": "63452a9c-af2b-4d8c-8dce-282a66c20390",
   "metadata": {},
   "outputs": [],
   "source": [
    "import numpy as np\n",
    "import matplotlib.pyplot as plt\n",
    "\n",
    "# Data for line 1\n",
    "x1 = np.array([0, 1, 2, 3, 4, 5])\n",
    "y1 = np.array([0, 100, 200, 300, 400, 500])\n",
    "\n",
    "# Data for line 2\n",
    "x2 = np.array([0, 1, 2, 3, 4, 5])\n",
    "y2 = np.array([50, 20, 40, 20, 60, 70])\n",
    "\n",
    "# Data for line 3\n",
    "x3 = np.array([0, 1, 2, 3, 4, 5])\n",
    "y3 = np.array([10, 20, 30, 40, 50, 60])\n",
    "\n",
    "# Data for line 4\n",
    "x4 = np.array([0, 1, 2, 3, 4, 5])\n",
    "y4 = np.array([200, 350, 250, 550, 450, 150])\n",
    "\n",
    "# Create a 2x2 subplot grid\n",
    "plt.subplot(2, 2, 1)\n",
    "plt.plot(x1, y1)\n",
    "plt.title('Line 1')\n",
    "\n",
    "plt.subplot(2, 2, 2)\n",
    "plt.plot(x2, y2)\n",
    "plt.title('Line 2')\n",
    "\n",
    "plt.subplot(2, 2, 3)\n",
    "plt.plot(x3, y3)\n",
    "plt.title('Line 3')\n",
    "\n",
    "plt.subplot(2, 2, 4)\n",
    "plt.plot(x4, y4)\n",
    "plt.title('Line 4')\n",
    "\n",
    "# Adjust layout for better appearance\n",
    "plt.tight_layout()\n",
    "\n",
    "# Show the plot\n",
    "plt.show()\n"
   ]
  },
  {
   "cell_type": "markdown",
   "id": "7d409fdd-abaf-4013-9ddd-9ebcc40ba3a6",
   "metadata": {},
   "source": [
    "## Q4: What is a bar plot? Why is it used? Using the following data plot a bar plot and a horizontal bar plot."
   ]
  },
  {
   "cell_type": "markdown",
   "id": "f602cb43-fdc3-4b20-88e3-456432a20ff8",
   "metadata": {},
   "source": [
    "A bar plot is a graphical representation of data where individual bars represent different categories or groups. The length or height of each bar corresponds to the value of the data it represents. Bar plots are useful for comparing the magnitudes of different categories or for displaying the distribution of a single categorical variable."
   ]
  },
  {
   "cell_type": "code",
   "execution_count": null,
   "id": "c4dd308e-2da8-461e-a0d1-362d3dfb8c64",
   "metadata": {},
   "outputs": [],
   "source": [
    "import numpy as np\n",
    "import matplotlib.pyplot as plt\n",
    "\n",
    "company = np.array([\"Apple\", \"Microsoft\", \"Google\", \"AMD\"])\n",
    "profit = np.array([3000, 8000, 1000, 10000])\n",
    "\n",
    "# Bar plot\n",
    "plt.figure(figsize=(8, 5))  # Adjust the figure size if needed\n",
    "plt.bar(company, profit, color='blue')\n",
    "plt.title('Bar Plot of Company Profits')\n",
    "plt.xlabel('Company')\n",
    "plt.ylabel('Profit (in billions)')\n",
    "plt.show()\n",
    "\n",
    "# Horizontal bar plot\n",
    "plt.figure(figsize=(8, 5))  # Adjust the figure size if needed\n",
    "plt.barh(company, profit, color='green')\n",
    "plt.title('Horizontal Bar Plot of Company Profits')\n",
    "plt.xlabel('Profit (in billions)')\n",
    "plt.ylabel('Company')\n",
    "plt.show()\n"
   ]
  },
  {
   "cell_type": "markdown",
   "id": "fac2c893-d637-4269-bab2-ae3015ac0a69",
   "metadata": {},
   "source": [
    "## Q5: What is a box plot? Why is it used? Using the following data plot a box plot."
   ]
  },
  {
   "cell_type": "markdown",
   "id": "4904519d-941b-4103-9bb7-3a4a2e3c9d4b",
   "metadata": {},
   "source": [
    "A box plot, also known as a box-and-whisker plot, is a graphical representation of the distribution of a dataset. It provides a summary of key statistical measures such as the median, quartiles, and potential outliers. The box plot consists of a rectangular \"box\" that spans the interquartile range (IQR) of the data, with a line inside representing the median. Whiskers extend from the box to indicate the range of the data, and individual data points beyond the whiskers may be considered outliers.\n",
    "\n",
    "Box plots are useful for comparing the distribution of different datasets or visualizing the spread and central tendency of a single dataset."
   ]
  },
  {
   "cell_type": "code",
   "execution_count": null,
   "id": "85ee4a54-5922-49c3-af3e-ff09ad859489",
   "metadata": {},
   "outputs": [],
   "source": [
    "import numpy as np\n",
    "import matplotlib.pyplot as plt\n",
    "\n",
    "box1 = np.random.normal(100, 10, 200)\n",
    "box2 = np.random.normal(90, 20, 200)\n",
    "\n",
    "# Combine the data into a list\n",
    "data = [box1, box2]\n",
    "\n",
    "# Create a box plot\n",
    "plt.boxplot(data, labels=['Box 1', 'Box 2'])\n",
    "plt.title('Box Plot of Box1 and Box2')\n",
    "plt.ylabel('Values')\n",
    "\n",
    "# Show the plot\n",
    "plt.show()\n"
   ]
  }
 ],
 "metadata": {
  "kernelspec": {
   "display_name": "Python 3 (ipykernel)",
   "language": "python",
   "name": "python3"
  },
  "language_info": {
   "codemirror_mode": {
    "name": "ipython",
    "version": 3
   },
   "file_extension": ".py",
   "mimetype": "text/x-python",
   "name": "python",
   "nbconvert_exporter": "python",
   "pygments_lexer": "ipython3",
   "version": "3.10.8"
  }
 },
 "nbformat": 4,
 "nbformat_minor": 5
}
